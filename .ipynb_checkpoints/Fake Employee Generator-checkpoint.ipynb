{
 "cells": [
  {
   "cell_type": "markdown",
   "id": "62f064bc",
   "metadata": {},
   "source": [
    "# Employee Details Generator\n",
    "\n",
    "The programs will involve generating at least 100 random employee records using Faker library. The\n",
    "records will be parsed a CSV file for the purpose of Analysis."
   ]
  },
  {
   "cell_type": "markdown",
   "id": "07c40f22",
   "metadata": {},
   "source": [
    "### Step 1: Install Neccessary Libraries"
   ]
  },
  {
   "cell_type": "code",
   "execution_count": 1,
   "id": "2627ddc9",
   "metadata": {
    "scrolled": true
   },
   "outputs": [
    {
     "name": "stdout",
     "output_type": "stream",
     "text": [
      "Requirement already satisfied: Faker in /Users/macbook/opt/anaconda3/lib/python3.9/site-packages (19.11.0)\n",
      "Requirement already satisfied: python-dateutil>=2.4 in /Users/macbook/opt/anaconda3/lib/python3.9/site-packages (from Faker) (2.8.2)\n",
      "Requirement already satisfied: six>=1.5 in /Users/macbook/opt/anaconda3/lib/python3.9/site-packages (from python-dateutil>=2.4->Faker) (1.16.0)\n",
      "Collecting psycopg2\n",
      "  Downloading psycopg2-2.9.9.tar.gz (384 kB)\n",
      "\u001b[2K     \u001b[90m━━━━━━━━━━━━━━━━━━━━━━━━━━━━━━━━━━━━━\u001b[0m \u001b[32m384.9/384.9 kB\u001b[0m \u001b[31m337.0 kB/s\u001b[0m eta \u001b[36m0:00:00\u001b[0m00:01\u001b[0m00:01\u001b[0m\n",
      "\u001b[?25h  Preparing metadata (setup.py) ... \u001b[?25ldone\n",
      "\u001b[?25hBuilding wheels for collected packages: psycopg2\n",
      "  Building wheel for psycopg2 (setup.py) ... \u001b[?25ldone\n",
      "\u001b[?25h  Created wheel for psycopg2: filename=psycopg2-2.9.9-cp39-cp39-macosx_10_9_x86_64.whl size=133788 sha256=6f79f179e10bf49621a03ca25c1fac6e38f177bdee8e872e8bdd470b06356b33\n",
      "  Stored in directory: /Users/macbook/Library/Caches/pip/wheels/3a/06/25/adb124afd8c8346e45c455f6586f7289cde2b4e339dfbcd9e9\n",
      "Successfully built psycopg2\n",
      "Installing collected packages: psycopg2\n",
      "Successfully installed psycopg2-2.9.9\n"
     ]
    }
   ],
   "source": [
    "!pip install Faker\n",
    "!pip install psycopg2"
   ]
  },
  {
   "cell_type": "markdown",
   "id": "e6942202",
   "metadata": {},
   "source": [
    "The libraries `Faker` and `psycopg2` are used in this code to facilitate the generation of fake employee data and the interaction with a Postgresql database. Here's why these libraries are used.\n",
    "\n",
    "**Faker Library:**\n",
    "\n",
    "* The Faker library is used to generate realistic and random fake data for attributes like names, email addresses, addresses, and more. It makes it easy to create synthetic data that closely resembles real data, which is important for testing and simulating real-world scenarios.\n",
    "\n",
    "* Without `Faker`, you would need to write custom code to generate fake data for each attribute, which can be time-consuming and may not produce as realistic results.\n",
    "\n",
    "**psycopg2:**\n",
    "\n",
    "* `The mysql-connector-python` library is used to connect to and interact with a MySQL database. It provides functions and classes that simplify database operations, including connecting to the database, executing SQL queries, and committing changes.\n",
    "\n",
    "`Without mysql-connector-python`, you would have to write low-level code to establish a connection to the database and handle database operations, which can be error-prone and complex"
   ]
  },
  {
   "cell_type": "markdown",
   "id": "fd26dc92",
   "metadata": {},
   "source": [
    "### Task 1: Collecting Employee Details and Stored in a List"
   ]
  },
  {
   "cell_type": "markdown",
   "id": "7858b55c",
   "metadata": {},
   "source": [
    "### Step 2: Import Libraries and Variables"
   ]
  },
  {
   "cell_type": "code",
   "execution_count": 16,
   "id": "6af121a8",
   "metadata": {},
   "outputs": [],
   "source": [
    "import random\n",
    "import mysql.connector\n",
    "from mysql.connector import errorcode\n",
    "from faker import Faker\n",
    "\n",
    "# Change this to the desired number of employees\n",
    "NUMBER_OF_EMPLOYEES = 10\n",
    "\n",
    "employee = {} # single employee record\n",
    "all_employees = []  # all employee list"
   ]
  },
  {
   "cell_type": "markdown",
   "id": "c42bef85",
   "metadata": {},
   "source": [
    "### Step 3: Define Functions\n",
    "\n",
    "**Prerequsite: Ensure you create a Database name `faker_employees` into your workbench**"
   ]
  },
  {
   "cell_type": "code",
   "execution_count": 17,
   "id": "1f466f24",
   "metadata": {},
   "outputs": [],
   "source": [
    "# Create employees Table\n",
    "def create_employee_tbl(cursor):\n",
    "    create_table_sql = \"\"\"\n",
    "        CREATE TABLE `employees` (\n",
    "          `employee_id` varchar(225) DEFAULT NULL,\n",
    "          `first_name` varchar(225) DEFAULT NULL,\n",
    "          `last_name` varchar(225) DEFAULT NULL,\n",
    "          `email` varchar(225) DEFAULT NULL,\n",
    "          `age` int DEFAULT NULL,\n",
    "          `salary` float DEFAULT NULL,\n",
    "          `department` varchar(225) DEFAULT NULL,\n",
    "          `address` varchar(225) DEFAULT NULL,\n",
    "          `state` varchar(225) DEFAULT NULL,\n",
    "          `country` varchar(225) DEFAULT NULL\n",
    "        ) ENGINE=InnoDB DEFAULT CHARSET=utf8mb4 COLLATE=utf8mb4_0900_ai_ci;\n",
    "    \"\"\"\n",
    "    cursor.execute(create_table_sql)\n",
    "    print(\"Table created\")"
   ]
  },
  {
   "cell_type": "code",
   "execution_count": 18,
   "id": "b51bbd57",
   "metadata": {},
   "outputs": [],
   "source": [
    "# generate a unique employee id\n",
    "\n",
    "def generate_employee_id(cursor):\n",
    "    while True:\n",
    "        employee_id = f\"EMP-{random.randint(1000, 9999)}\" #EMP-10001\n",
    "        \n",
    "        query_id = \"\"\"\n",
    "            SELECT employee_id \n",
    "            FROM employees \n",
    "            WHERE employee_id = %s\n",
    "        \"\"\"\n",
    "        cursor.execute(query_id, (employee_id,))\n",
    "        \n",
    "        if cursor.fetchone() is None:\n",
    "            return employee_id\n",
    "        else:\n",
    "            break"
   ]
  },
  {
   "cell_type": "code",
   "execution_count": 19,
   "id": "36add282",
   "metadata": {},
   "outputs": [],
   "source": [
    "# Create a function to generate a fake employee:\n",
    "def generate_fake_employee():\n",
    "    fake = Faker()\n",
    "    employee_id = generate_employee_id(cursor)\n",
    "    first_name = fake.first_name()\n",
    "    last_name = fake.last_name()\n",
    "    email = fake.email()\n",
    "    age = random.randint(18, 65)\n",
    "    salary = random.randint(30000, 100000)\n",
    "    department = fake.job()\n",
    "    address = fake.address()\n",
    "    state = fake.state()\n",
    "    country = fake.country()\n",
    "    return (\n",
    "        employee_id, first_name, last_name, email, age, salary, department, address, state, country\n",
    "    )\n"
   ]
  },
  {
   "cell_type": "code",
   "execution_count": 20,
   "id": "c51efdec",
   "metadata": {},
   "outputs": [],
   "source": [
    "# Create a function to insert the fake employee record into the database:\n",
    "def insert_employee_record(cursor, employee):\n",
    "    insert_sql = \"\"\"\n",
    "            INSERT INTO employees (employee_id, first_name, last_name, email, age, salary, department, address, state, country) \n",
    "            VALUES (%s, %s, %s, %s, %s, %s, %s, %s, %s, %s)\"\n",
    "    \"\"\"\n",
    "    cursor.execute(insert_sql, employee)\n",
    "    connection.commit()"
   ]
  },
  {
   "cell_type": "code",
   "execution_count": 21,
   "id": "aef6b6bc",
   "metadata": {},
   "outputs": [
    {
     "name": "stdout",
     "output_type": "stream",
     "text": [
      "Connected to MySQL Server version  8.0.25\n",
      "You're connected to database:  ('faker_employees',)\n",
      "Table created\n"
     ]
    }
   ],
   "source": [
    "# Connect to the MySQL database:\n",
    "try:\n",
    "    connection = mysql.connector.connect(host='localhost',\n",
    "                                         database='faker_employees',\n",
    "                                         user='root',\n",
    "                                         password='akande#T7')\n",
    "    if connection.is_connected():\n",
    "        db_Info = connection.get_server_info()\n",
    "        print(\"Connected to MySQL Server version \", db_Info)\n",
    "        cursor = connection.cursor()\n",
    "        cursor.execute(\"select database();\")\n",
    "        record = cursor.fetchone()\n",
    "        print(\"You're connected to database: \", record)\n",
    "             \n",
    "\n",
    "except Error as e:\n",
    "    print(\"Error while connecting to MySQL\", e)\n",
    "finally:\n",
    "    if connection.is_connected():\n",
    "#         cursor.close()\n",
    "#         connection.close()\n",
    "        create_employee_tbl(cursor)"
   ]
  },
  {
   "cell_type": "code",
   "execution_count": 25,
   "id": "74393bf3",
   "metadata": {},
   "outputs": [
    {
     "name": "stdout",
     "output_type": "stream",
     "text": [
      "10 generated and inserted into Database successfully\n"
     ]
    }
   ],
   "source": [
    "for _ in range(NUMBER_OF_EMPLOYEES):\n",
    "    employee = generate_fake_employee()\n",
    "    insert_employee_record(cursor, employee)\n",
    "    \n",
    "    all_employees.append(employee)\n",
    "\n",
    "print(f\"{NUMBER_OF_EMPLOYEES} generated and inserted into Database successfully\")\n"
   ]
  },
  {
   "cell_type": "markdown",
   "id": "638f04c6",
   "metadata": {},
   "source": [
    "### Step 3: Close Connections"
   ]
  },
  {
   "cell_type": "code",
   "execution_count": 15,
   "id": "502955b7",
   "metadata": {},
   "outputs": [],
   "source": [
    "cursor.close()\n",
    "connection.close()"
   ]
  },
  {
   "cell_type": "code",
   "execution_count": 26,
   "id": "78e3cb9c",
   "metadata": {},
   "outputs": [
    {
     "data": {
      "text/plain": [
       "[('EMP-8309',\n",
       "  'Sierra',\n",
       "  'Harper',\n",
       "  'bartontamara@example.org',\n",
       "  51,\n",
       "  66058,\n",
       "  'Radiographer, therapeutic',\n",
       "  '8949 Parker Plain Suite 935\\nWest Jamesmouth, KS 78898',\n",
       "  'Oregon',\n",
       "  'Afghanistan'),\n",
       " ('EMP-1677',\n",
       "  'Stephen',\n",
       "  'Allen',\n",
       "  'adrianschwartz@example.org',\n",
       "  54,\n",
       "  83475,\n",
       "  'Teacher, special educational needs',\n",
       "  '47918 Meyer Well\\nEast Natalie, MN 32147',\n",
       "  'Minnesota',\n",
       "  'Bolivia'),\n",
       " ('EMP-4716',\n",
       "  'Howard',\n",
       "  'Perez',\n",
       "  'heatherbauer@example.net',\n",
       "  38,\n",
       "  75141,\n",
       "  'Immigration officer',\n",
       "  '40821 Anderson Islands\\nThompsonshire, NC 45633',\n",
       "  'Colorado',\n",
       "  'Norfolk Island'),\n",
       " ('EMP-3120',\n",
       "  'Thomas',\n",
       "  'Webb',\n",
       "  'brian50@example.com',\n",
       "  18,\n",
       "  70753,\n",
       "  'Tree surgeon',\n",
       "  '98217 Teresa Court Apt. 308\\nNew Kenneth, NJ 66169',\n",
       "  'Rhode Island',\n",
       "  'Heard Island and McDonald Islands'),\n",
       " ('EMP-8062',\n",
       "  'Lisa',\n",
       "  'Wallace',\n",
       "  'margaretmoore@example.com',\n",
       "  44,\n",
       "  49644,\n",
       "  'Immunologist',\n",
       "  '7241 Sawyer Gardens\\nCarterfort, NC 05455',\n",
       "  'Georgia',\n",
       "  'Jamaica'),\n",
       " ('EMP-8127',\n",
       "  'Cameron',\n",
       "  'Ayala',\n",
       "  'reyestheodore@example.net',\n",
       "  40,\n",
       "  71278,\n",
       "  'Database administrator',\n",
       "  '4972 Pruitt Shore Suite 578\\nWest Andrea, WI 01215',\n",
       "  'New Hampshire',\n",
       "  'Poland'),\n",
       " ('EMP-5427',\n",
       "  'Christina',\n",
       "  'Solis',\n",
       "  'zfoster@example.com',\n",
       "  40,\n",
       "  37774,\n",
       "  'Civil engineer, contracting',\n",
       "  '25224 Melinda Isle Apt. 426\\nEast Mikaylaburgh, UT 46315',\n",
       "  'Utah',\n",
       "  'Northern Mariana Islands'),\n",
       " ('EMP-8486',\n",
       "  'Devin',\n",
       "  'Torres',\n",
       "  'wesley74@example.net',\n",
       "  45,\n",
       "  33152,\n",
       "  'Diplomatic Services operational officer',\n",
       "  '925 Hopkins Shoals Suite 418\\nWest Richard, CO 65959',\n",
       "  'Oregon',\n",
       "  'Maldives'),\n",
       " ('EMP-6893',\n",
       "  'Carl',\n",
       "  'Turner',\n",
       "  'claytonashley@example.com',\n",
       "  40,\n",
       "  94510,\n",
       "  'Tax inspector',\n",
       "  '20148 Rebekah Freeway\\nNorth Terriberg, AZ 74371',\n",
       "  'South Carolina',\n",
       "  'Samoa'),\n",
       " ('EMP-2246',\n",
       "  'Joseph',\n",
       "  'Sexton',\n",
       "  'staceyferguson@example.net',\n",
       "  23,\n",
       "  90176,\n",
       "  'Pilot, airline',\n",
       "  '296 Shane Alley Suite 734\\nWest Amyshire, GU 38564',\n",
       "  'Alaska',\n",
       "  'Costa Rica')]"
      ]
     },
     "execution_count": 26,
     "metadata": {},
     "output_type": "execute_result"
    }
   ],
   "source": [
    "all_employees"
   ]
  },
  {
   "cell_type": "code",
   "execution_count": null,
   "id": "df83f3e3",
   "metadata": {},
   "outputs": [],
   "source": []
  }
 ],
 "metadata": {
  "kernelspec": {
   "display_name": "Python 3 (ipykernel)",
   "language": "python",
   "name": "python3"
  },
  "language_info": {
   "codemirror_mode": {
    "name": "ipython",
    "version": 3
   },
   "file_extension": ".py",
   "mimetype": "text/x-python",
   "name": "python",
   "nbconvert_exporter": "python",
   "pygments_lexer": "ipython3",
   "version": "3.9.13"
  }
 },
 "nbformat": 4,
 "nbformat_minor": 5
}
