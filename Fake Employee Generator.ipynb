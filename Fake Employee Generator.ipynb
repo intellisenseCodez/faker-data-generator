{
 "cells": [
  {
   "attachments": {},
   "cell_type": "markdown",
   "id": "62f064bc",
   "metadata": {},
   "source": [
    "# Fake Employee Generator Using Python and Faker Library\n",
    "\n",
    "<img src=\"image.png\">\n",
    "\n",
    "\n",
    "## Project Description:\n",
    ">Generating fake or synthetic data serves various important purposes for data engineers, especially in scenarios where access to real data might be limited, sensitive, or unavailable due to privacy concerns. Some key reasons for generating fake data include:\n",
    "\n",
    "* **Testing and Development**: Fake data allows data engineers to develop and test systems, applications, or algorithms without using real, potentially sensitive, or limited data. It helps in verifying the functionality of software or systems before deploying them in a real environment.\n",
    "\n",
    "* **Privacy and Security**: In situations where handling sensitive information is involved (such as healthcare or financial data), generating fake data helps in ensuring privacy and compliance with data protection regulations (like GDPR or HIPAA). It prevents exposure of real personal information while still allowing testing and development.\n",
    "\n",
    "* **Data Quality and Quantity**: Generating synthetic data assists in creating datasets with specific characteristics, distributions, or patterns that might not exist in real data. It helps in assessing the robustness of algorithms or systems by providing diverse and comprehensive datasets.\n",
    "\n",
    "* **Training and Education**: Synthetic datasets are valuable for educational purposes, training machine learning models, or teaching data analysis techniques without using actual sensitive data. It enables students or professionals to practice data-related tasks without compromising real data integrity.\n",
    "\n",
    "* **Scenario Simulation**: Simulating various scenarios or edge cases using synthetic data helps in understanding how systems or models perform under different conditions. It aids in predicting system behavior in unforeseen circumstances.\n",
    "\n",
    "* **Benchmarking and Performance Testing**: Generating large volumes of fake data helps in benchmarking the performance of databases, applications, or systems under heavy loads. It allows engineers to assess scalability and performance metrics.\n",
    "\n",
    "* **Data Anonymization Techniques**: Fake data can be used alongside anonymization techniques to create surrogate keys or mask sensitive information, enabling the sharing of datasets for collaboration or research while protecting privacy.\n",
    "\n",
    "* **Filling Gaps in Real Data**: In cases where real datasets have missing values or incomplete records, synthetic data can be used to fill these gaps for more comprehensive analysis and testing.\n",
    "\n",
    "\n",
    "## Objectives:\n",
    ">The aim of this project is to create a versatile, reliable, and comprehensive dataset that meets the requirements for analysis, testing, development, and compliance while safeguarding sensitive information.\n",
    "\n",
    "## Tools used:\n",
    "* Python Programming Language\n",
    "* Postgres Database\n",
    "* DBeaver\n",
    "* Canvas (for design)\n",
    "\n",
    "## Module / Library Used:\n",
    "* random\n",
    "* Faker\n",
    "* psycopg2\n",
    "* Pandas\n",
    "\n",
    "## Data Dictionary / Model\n",
    "\n",
    "<img src=\"fake_employee_node.png\" width=\"200\" height=\"100\">\n",
    "Creating a robust employee dataset for data analysis and visualization involves several key fields that capture different aspects of an employee's information. Here's a list of fields you might consider including:\n",
    "\n",
    "1. Employee ID: A unique identifier for each employee.\n",
    "2. Name: First name and last name of the employee.\n",
    "3. Gender: Male, female, non-binary, etc.\n",
    "4. Date of Birth: Birthdate of the employee.\n",
    "5. Email Address: Contact email of the employee.\n",
    "6. Phone Number: Contact number of the employee.\n",
    "7. Address: Home or work address of the employee.\n",
    "8. Department: The department the employee belongs to (e.g., HR, Marketing, Engineering, etc.).\n",
    "9. Job Title: The specific job title of the employee.\n",
    "10. Manager ID: ID of the employee's manager.\n",
    "11. Hire Date: Date when the employee was hired.\n",
    "12. Salary: Employee's salary or compensation.\n",
    "13. Employment Status: Full-time, part-time, contractor, etc.\n",
    "14. Employee Type: Regular, temporary, contract, etc.\n",
    "15. Education Level: Highest level of education attained by the employee.\n",
    "16. Certifications: Any relevant certifications the employee holds.\n",
    "17. Skills: Specific skills or expertise possessed by the employee.\n",
    "18. Performance Ratings: Ratings or evaluations of employee performance.\n",
    "19. Work Experience: Previous work experience of the employee.\n",
    "20. Benefits Enrollment: Information on benefits chosen by the employee (e.g., healthcare plan, retirement plan, etc.).\n",
    "21. Work Location: Physical location where the employee works.\n",
    "22. Work Hours: Regular working hours or shifts of the employee.\n",
    "23. Employee Status: Active, on leave, terminated, etc.\n",
    "24. Emergency Contact: Contact information of the employee's emergency contact person.\n",
    "25. Employee Satisfaction Survey Responses: Data from employee satisfaction surveys, if applicable."
   ]
  },
  {
   "cell_type": "markdown",
   "id": "07c40f22",
   "metadata": {},
   "source": [
    "### Step 1: Install Neccessary Libraries"
   ]
  },
  {
   "cell_type": "code",
   "execution_count": null,
   "id": "2627ddc9",
   "metadata": {
    "scrolled": true
   },
   "outputs": [],
   "source": [
    "!pip install Faker\n",
    "!pip install psycopg2"
   ]
  },
  {
   "cell_type": "markdown",
   "id": "e6942202",
   "metadata": {},
   "source": [
    "The libraries `Faker` and `psycopg2` are used in this code to facilitate the generation of fake employee data and the interaction with a Postgresql database. Here's why these libraries are used.\n",
    "\n",
    "**Faker Library:**\n",
    "\n",
    "* The Faker library is used to generate realistic and random fake data for attributes like names, email addresses, addresses, and more. It makes it easy to create synthetic data that closely resembles real data, which is important for testing and simulating real-world scenarios.\n",
    "\n",
    "* Without `Faker`, you would need to write custom code to generate fake data for each attribute, which can be time-consuming and may not produce as realistic results.\n",
    "\n",
    "**psycopg2:**\n",
    "\n",
    "* `psycopg2` library is used to connect to and interact with a postgres database. It provides functions and classes that simplify database operations, including connecting to the database, executing SQL queries, and committing changes.\n",
    "\n",
    "`Without psycopg2`, you would have to write low-level code to establish a connection to the database and handle database operations, which can be error-prone and complex"
   ]
  },
  {
   "cell_type": "markdown",
   "id": "7858b55c",
   "metadata": {},
   "source": [
    "### Step 2: Import Libraries and Variables"
   ]
  },
  {
   "cell_type": "code",
   "execution_count": 28,
   "id": "6af121a8",
   "metadata": {},
   "outputs": [],
   "source": [
    "import random\n",
    "import psycopg2\n",
    "from faker import Faker\n",
    "import pandas as pd\n",
    "\n",
    "# Change this to the desired number of employees\n",
    "NUMBER_OF_EMPLOYEES = 1000\n",
    "\n",
    "all_employees = []  # all employee list"
   ]
  },
  {
   "cell_type": "markdown",
   "id": "c42bef85",
   "metadata": {},
   "source": [
    "### Step 3: Define Functions:"
   ]
  },
  {
   "cell_type": "code",
   "execution_count": 29,
   "id": "1f466f24",
   "metadata": {},
   "outputs": [],
   "source": [
    "# Create employees Table\n",
    "def create_employee_tbl(cursor):\n",
    "    create_table_sql = \"\"\"\n",
    "        CREATE TABLE IF NOT EXISTS employees (\n",
    "          employee_id integer,\n",
    "          name varchar(225),\n",
    "          gender varchar(10),\n",
    "          dates_of_birth date,\n",
    "          email varchar(225),\n",
    "          phone_number varchar(225),\n",
    "          address varchar(225),\n",
    "          department varchar(150),\n",
    "          job_titles varchar(150),\n",
    "          manager_id integer,\n",
    "          hire_date date,\n",
    "          salary float,\n",
    "          employment_status varchar(225),\n",
    "          employee_type varchar(225),\n",
    "          education_level varchar(225),\n",
    "          certifications text,\n",
    "          skills text,\n",
    "          performance_ratings integer,\n",
    "          work_experience text,\n",
    "          benefits_enrollment text,\n",
    "          city varchar(225),\n",
    "          work_hours varchar(225),\n",
    "          employee_status varchar(225),\n",
    "          emergency_contacts varchar(225)\n",
    "        );\n",
    "    \"\"\"\n",
    "    cursor.execute(create_table_sql)\n",
    "    print(\"Table employees created!\")"
   ]
  },
  {
   "cell_type": "code",
   "execution_count": 30,
   "id": "36add282",
   "metadata": {},
   "outputs": [],
   "source": [
    "# Create a function to generate a fake employee:\n",
    "def generate_fake_employee():\n",
    "    \n",
    "    # create an object of Faker\n",
    "    fake = Faker()\n",
    "    \n",
    "    # Create lists to store employee information\n",
    "    employee_ids = random.randint(1000, 9999)\n",
    "    names = fake.name()\n",
    "    genders = random.choice(['Male', 'Female', 'Non-Binary'])\n",
    "    dates_of_births = fake.date_of_birth(minimum_age=18, maximum_age=65)\n",
    "    emails = fake.email()\n",
    "    phone_numbers = fake.phone_number() \n",
    "    addresses = fake.address()\n",
    "    departments = random.choice(['HR', 'Marketing', 'Engineering', 'Finance', 'IT'])\n",
    "    job_titles = fake.job()\n",
    "    manager_ids = random.randint(1, 10)\n",
    "    hire_dates = fake.date_between(start_date='-5y', end_date='today')\n",
    "    salaries = random.randint(40000, 120000)\n",
    "    employment_status = random.choice(['Full-time', 'Part-time', 'Contractor'])\n",
    "    employee_type = random.choice(['Regular', 'Temporary', 'Contract']) \n",
    "    education_level = random.choice(['High School', 'Associate Degree', 'Bachelor\\'s Degree', 'Master\\'s Degree', 'PhD'])\n",
    "    certifications = ', '.join(fake.words(nb=random.randint(1, 3))) \n",
    "    skills = ', '.join(fake.words(nb=random.randint(2, 5)))\n",
    "    performance_ratings = random.randint(1, 5) \n",
    "    work_experience = fake.paragraph(nb_sentences=2)\n",
    "    benefits_enrollment = ', '.join(fake.words(nb=random.randint(1, 3)))\n",
    "    city = fake.city()\n",
    "    work_hours = random.choice(['9-5', '12-8', 'Night Shift']) \n",
    "    employee_status = random.choice(['Active', 'On Leave', 'Terminated'])\n",
    "    emergency_contacts = fake.name() + ': ' + fake.phone_number()\n",
    "    \n",
    "    return (\n",
    "        employee_ids, names,genders, dates_of_births,emails,\n",
    "        phone_numbers,addresses,departments,job_titles,manager_ids,hire_dates,salaries,\n",
    "        employment_status,employee_type,education_level, certifications,skills,performance_ratings,work_experience,\n",
    "        benefits_enrollment,city, work_hours,employee_status,emergency_contacts)\n"
   ]
  },
  {
   "cell_type": "code",
   "execution_count": 31,
   "id": "c51efdec",
   "metadata": {},
   "outputs": [],
   "source": [
    "# Create a function to insert the fake employee record into the database:\n",
    "def insert_employee_record(cursor, employee):\n",
    "    insert_sql = \"\"\"\n",
    "            INSERT INTO employees(employee_id,\n",
    "                                  name,\n",
    "                                  gender,\n",
    "                                  dates_of_birth,\n",
    "                                  email,\n",
    "                                  phone_number,\n",
    "                                  address,\n",
    "                                  department,\n",
    "                                  job_titles,\n",
    "                                  manager_id,\n",
    "                                  hire_date,\n",
    "                                  salary,\n",
    "                                  employment_status,\n",
    "                                  employee_type,\n",
    "                                  education_level,\n",
    "                                  certifications,\n",
    "                                  skills,\n",
    "                                  performance_ratings,\n",
    "                                  work_experience,\n",
    "                                  benefits_enrollment,\n",
    "                                  city,\n",
    "                                  work_hours,\n",
    "                                  employee_status,\n",
    "                                  emergency_contacts)\n",
    "            VALUES (%s, %s, %s, %s, %s, %s, %s, %s, %s, %s, %s, %s, %s, %s, %s, %s, %s, %s, %s, %s, %s, %s, %s, %s);\n",
    "    \"\"\"\n",
    "    cursor.execute(insert_sql, employee)"
   ]
  },
  {
   "cell_type": "markdown",
   "id": "63222e5c",
   "metadata": {},
   "source": [
    "## step 4: Create a Connection to the Database"
   ]
  },
  {
   "cell_type": "code",
   "execution_count": 32,
   "id": "f6d58f3b",
   "metadata": {},
   "outputs": [
    {
     "name": "stdout",
     "output_type": "stream",
     "text": [
      "Connecting to the PostgreSQL database...\n",
      "Postgres session set to Autocommit\n",
      "PostgreSQL database version:\n",
      "('PostgreSQL 16.0 on aarch64-apple-darwin21.6.0, compiled by Apple clang version 14.0.0 (clang-1400.0.29.102), 64-bit',)\n",
      "fake_db\n",
      "Truncated Table Employee\n"
     ]
    }
   ],
   "source": [
    "conn = None\n",
    "\n",
    "try:\n",
    "    # connect to the PostgreSQL server\n",
    "    print('Connecting to the PostgreSQL database...')\n",
    "    conn = psycopg2.connect(host=\"localhost\",\n",
    "                        port=\"5432\",\n",
    "                        database=\"fake_db\",\n",
    "                        user=\"fake_user\",\n",
    "                        password=\"fake_password\")\n",
    "\n",
    "    # set session to autocommit\n",
    "    conn.set_session(autocommit=True)\n",
    "    print(\"Postgres session set to Autocommit\")\n",
    "\n",
    "\n",
    "    #create a cursor\n",
    "    curr = conn.cursor()\n",
    "\n",
    "    # execute a statement\n",
    "    print('PostgreSQL database version:')\n",
    "    curr.execute('SELECT version()')\n",
    "\n",
    "    # display the PostgreSQL database server version\n",
    "    db_version = curr.fetchone()\n",
    "    print(db_version)\n",
    "\n",
    "    # create schema\n",
    "    curr.execute(\"CREATE SCHEMA IF NOT EXISTS raw;\")\n",
    "    curr.execute(\"SET SCHEMA 'raw';\")\n",
    "    \n",
    "    try:\n",
    "        curr.execute(\"\"\"SELECT * FROM information_schema.tables \n",
    "                    WHERE table_name=%s\"\"\", ('employees',))\n",
    "        row = curr.fetchone()[0]\n",
    "        print(row)\n",
    "    except(Exception, psycopg2.DatabaseError) as error:\n",
    "        print(error)\n",
    "\n",
    "    if row:\n",
    "        curr.execute(\"TRUNCATE employees;\")\n",
    "        print(\"Truncated Table Employee\")\n",
    "    else:\n",
    "        # Create table\n",
    "        create_employee_tbl(curr)\n",
    "\n",
    "except(Exception, psycopg2.DatabaseError) as error:\n",
    "    print(error)\n",
    "        \n",
    "        "
   ]
  },
  {
   "cell_type": "markdown",
   "id": "583f4eb9",
   "metadata": {},
   "source": [
    "## Step 5: Generate Data and Insert to Database"
   ]
  },
  {
   "cell_type": "code",
   "execution_count": 33,
   "id": "74393bf3",
   "metadata": {},
   "outputs": [
    {
     "name": "stdout",
     "output_type": "stream",
     "text": [
      "10 generated and inserted into Database successfully\n"
     ]
    }
   ],
   "source": [
    "for _ in range(NUMBER_OF_EMPLOYEES):\n",
    "    \n",
    "    employee = generate_fake_employee()\n",
    "    insert_employee_record(curr, employee)\n",
    "    \n",
    "    all_employees.append(employee)\n",
    "\n",
    "print(f\"{NUMBER_OF_EMPLOYEES} generated and inserted into Database successfully\")"
   ]
  },
  {
   "cell_type": "markdown",
   "id": "638f04c6",
   "metadata": {},
   "source": [
    "## Step 6. Step 3: Close Connections"
   ]
  },
  {
   "cell_type": "code",
   "execution_count": 34,
   "id": "502955b7",
   "metadata": {},
   "outputs": [],
   "source": [
    "# close connections\n",
    "curr.close()\n",
    "conn.close()"
   ]
  },
  {
   "cell_type": "markdown",
   "id": "d7d85d99",
   "metadata": {},
   "source": [
    "## Step 7: Load data into CSV"
   ]
  },
  {
   "cell_type": "code",
   "execution_count": 40,
   "id": "22b49434",
   "metadata": {},
   "outputs": [],
   "source": [
    "# covert the employee into a dictionary:\n",
    "employee_dict = {\n",
    "    'employee_id': [],\n",
    "      'name': [],\n",
    "      'gender': [],\n",
    "      'dates_of_birth': [],\n",
    "      'email': [],\n",
    "      'phone_number': [],\n",
    "      'address': [],\n",
    "      'department': [],\n",
    "      'job_titles': [],\n",
    "      'manager_id': [],\n",
    "      'hire_date': [],\n",
    "      'salary': [],\n",
    "      'employment_status': [],\n",
    "      'employee_type': [],\n",
    "      'education_level': [],\n",
    "      'certifications': [],\n",
    "      'skills': [],\n",
    "      'performance_ratings': [],\n",
    "      'work_experience': [],\n",
    "      'benefits_enrollment': [],\n",
    "      'city': [],\n",
    "      'work_hours': [],\n",
    "      'employee_status': [],\n",
    "      'emergency_contacts': []\n",
    "}\n",
    "\n",
    "for record in all_employees:\n",
    "    employee_dict['employee_id'].append(record[0])\n",
    "    employee_dict['name'].append(record[1])\n",
    "    employee_dict['gender'].append(record[2])\n",
    "    employee_dict['dates_of_birth'].append(record[3])\n",
    "    employee_dict['email'].append(record[4])\n",
    "    employee_dict['phone_number'].append(record[5])\n",
    "    employee_dict['address'].append(record[6])\n",
    "    employee_dict['department'].append(record[7])\n",
    "    employee_dict['job_titles'].append(record[8])\n",
    "    employee_dict['manager_id'].append(record[9])\n",
    "    employee_dict['hire_date'].append(record[10])\n",
    "    employee_dict['salary'].append(record[11])\n",
    "    employee_dict['employment_status'].append(record[12])\n",
    "    employee_dict['employee_type'].append(record[13])\n",
    "    employee_dict['education_level'].append(record[14])\n",
    "    employee_dict['certifications'].append(record[15])\n",
    "    employee_dict['skills'].append(record[16])\n",
    "    employee_dict['performance_ratings'].append(record[17])\n",
    "    employee_dict['work_experience'].append(record[18])\n",
    "    employee_dict['benefits_enrollment'].append(record[19])\n",
    "    employee_dict['city'].append(record[20])\n",
    "    employee_dict['work_hours'].append(record[21])\n",
    "    employee_dict['employee_status'].append(record[22])\n",
    "    employee_dict['emergency_contacts'].append(record[23])\n",
    "\n",
    "    \n",
    "# create dataframe\n",
    "employee_df = pd.DataFrame(employee_dict)\n",
    "\n",
    "# save to CSV\n",
    "employee_df.to_csv('fake_employee.csv')"
   ]
  },
  {
   "cell_type": "code",
   "execution_count": 41,
   "id": "26bfb353",
   "metadata": {},
   "outputs": [
    {
     "data": {
      "text/plain": [
       "(10, 24)"
      ]
     },
     "execution_count": 41,
     "metadata": {},
     "output_type": "execute_result"
    }
   ],
   "source": [
    "employee_df.shape"
   ]
  },
  {
   "cell_type": "code",
   "execution_count": null,
   "id": "907592ea",
   "metadata": {},
   "outputs": [],
   "source": []
  },
  {
   "cell_type": "code",
   "execution_count": null,
   "id": "1d16a3fd",
   "metadata": {},
   "outputs": [],
   "source": []
  }
 ],
 "metadata": {
  "kernelspec": {
   "display_name": "Python 3 (ipykernel)",
   "language": "python",
   "name": "python3"
  },
  "language_info": {
   "codemirror_mode": {
    "name": "ipython",
    "version": 3
   },
   "file_extension": ".py",
   "mimetype": "text/x-python",
   "name": "python",
   "nbconvert_exporter": "python",
   "pygments_lexer": "ipython3",
   "version": "3.9.13"
  }
 },
 "nbformat": 4,
 "nbformat_minor": 5
}
